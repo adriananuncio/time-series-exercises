{
 "cells": [
  {
   "cell_type": "markdown",
   "id": "87fbc50a",
   "metadata": {},
   "source": [
    "# Imports"
   ]
  },
  {
   "cell_type": "code",
   "execution_count": 1,
   "id": "8557a146",
   "metadata": {},
   "outputs": [],
   "source": [
    "# standard import\n",
    "import numpy as np\n",
    "import pandas as pd\n",
    "from datetime import timedelta, datetime\n",
    "# visualization\n",
    "import matplotlib.pyplot as plt\n",
    "import seaborn as sns\n",
    "# stats\n",
    "import statsmodels.api as sm\n",
    "from sklearn.model_selection import TimeSeriesSplit\n",
    "# aquire\n",
    "from env import user, password, host\n",
    "import os\n",
    "# notebook formatting\n",
    "from pprint import pprint\n",
    "import warnings\n",
    "warnings.filterwarnings(\"ignore\")\n",
    "# plotting defaults\n",
    "plt.rc('figure', figsize=(13, 7))\n",
    "plt.style.use('seaborn-whitegrid')\n",
    "plt.rc('font', size=16)"
   ]
  },
  {
   "cell_type": "markdown",
   "id": "fd8946eb",
   "metadata": {},
   "source": [
    "### Using your store items data:"
   ]
  },
  {
   "cell_type": "code",
   "execution_count": 2,
   "id": "a80d07c2",
   "metadata": {},
   "outputs": [],
   "source": [
    "def get_db_url(database):\n",
    "    return f'mysql+pymysql://{user}:{password}@{host}/{database}'\n",
    "\n",
    "def get_store_data():\n",
    "    '''\n",
    "    Returns a dataframe of all store data in the \n",
    "    tsa_item_demand database and saves a local copy \n",
    "    as a csv file.\n",
    "    '''\n",
    "    query = '''\n",
    "    SELECT *\n",
    "    FROM items\n",
    "    JOIN sales USING(item_id)\n",
    "    JOIN stores USING(store_id) \n",
    "    '''\n",
    "    df = pd.read_sql(query, get_db_url('tsa_item_demand'))\n",
    "    df.to_csv('tsa_item_demand.csv', index=False)\n",
    "    return df\n",
    "\n",
    "def wrangle_store_data():\n",
    "    filename = 'tsa_store_data.csv'\n",
    "    if os.path.isfile(filename):\n",
    "        df = pd.read_csv(filename, index_col=0)\n",
    "    else:\n",
    "        df = get_store_data()\n",
    "    return df"
   ]
  },
  {
   "cell_type": "code",
   "execution_count": 4,
   "id": "4b2c10cb",
   "metadata": {},
   "outputs": [],
   "source": [
    "df = wrangle_store_data()"
   ]
  },
  {
   "cell_type": "markdown",
   "id": "da4d3347",
   "metadata": {},
   "source": [
    "### 1. Convert date column to datetime format."
   ]
  },
  {
   "cell_type": "code",
   "execution_count": null,
   "id": "b328f3d9",
   "metadata": {},
   "outputs": [],
   "source": [
    "df = get_store_data()"
   ]
  },
  {
   "cell_type": "code",
   "execution_count": 6,
   "id": "70f436a5",
   "metadata": {},
   "outputs": [
    {
     "ename": "AttributeError",
     "evalue": "'RangeIndex' object has no attribute 'day_name'",
     "output_type": "error",
     "traceback": [
      "\u001b[0;31m---------------------------------------------------------------------------\u001b[0m",
      "\u001b[0;31mAttributeError\u001b[0m                            Traceback (most recent call last)",
      "Input \u001b[0;32mIn [6]\u001b[0m, in \u001b[0;36m<cell line: 2>\u001b[0;34m()\u001b[0m\n\u001b[1;32m      1\u001b[0m \u001b[38;5;66;03m# grab day of week from the datetime index\u001b[39;00m\n\u001b[0;32m----> 2\u001b[0m df[\u001b[38;5;124m'\u001b[39m\u001b[38;5;124mday_of_week\u001b[39m\u001b[38;5;124m'\u001b[39m] \u001b[38;5;241m=\u001b[39m \u001b[43mdf\u001b[49m\u001b[38;5;241;43m.\u001b[39;49m\u001b[43mindex\u001b[49m\u001b[38;5;241;43m.\u001b[39;49m\u001b[43mday_name\u001b[49m()\n",
      "\u001b[0;31mAttributeError\u001b[0m: 'RangeIndex' object has no attribute 'day_name'"
     ]
    }
   ],
   "source": [
    "# grab day of week from the datetime index\n",
    "df['day_of_week'] = df.index.day_name()"
   ]
  },
  {
   "cell_type": "code",
   "execution_count": null,
   "id": "a65a8d8f",
   "metadata": {},
   "outputs": [],
   "source": [
    "df.index.strftime('%B')"
   ]
  },
  {
   "cell_type": "code",
   "execution_count": null,
   "id": "cdd2591a",
   "metadata": {},
   "outputs": [],
   "source": [
    "# month name from the str-format interpretation of datetime\n",
    "df['month'] = df.index.strftime('%B')"
   ]
  },
  {
   "cell_type": "code",
   "execution_count": null,
   "id": "8aedb8ae",
   "metadata": {},
   "outputs": [],
   "source": [
    "df.head()"
   ]
  },
  {
   "cell_type": "code",
   "execution_count": null,
   "id": "cf580195",
   "metadata": {},
   "outputs": [],
   "source": [
    "df['sales_total'] = df.sale_amount * df.item_price"
   ]
  },
  {
   "cell_type": "code",
   "execution_count": null,
   "id": "2df62dfb",
   "metadata": {},
   "outputs": [],
   "source": [
    "def prepare_store(df):\n",
    "    # cut off the junk timestamp\n",
    "    df.sale_date = df.sale_date.str.replace(' 00:00:00 GMT', '')\n",
    "    # convert the sale date into pandas datetime\n",
    "    df.sale_date = pd.to_datetime(df.sale_date)\n",
    "    #set the index as the date time\n",
    "    df = df.set_index('sale_date')\n",
    "    # get sales total as revenue on the item+store+day basis\n",
    "    df['sales_total'] = df.sale_amount * df.item_price\n",
    "    # grab the month name \n",
    "    df.index.strftime('%B')\n",
    "    # grab the day of week\n",
    "    df['day_of_week'] = df.index.day_name()\n",
    "    return df"
   ]
  },
  {
   "cell_type": "code",
   "execution_count": null,
   "id": "f29f2360",
   "metadata": {},
   "outputs": [],
   "source": [
    "df = pd.read_csv('https://raw.githubusercontent.com/jenfly/opsd/master/opsd_germany_daily.csv')"
   ]
  },
  {
   "cell_type": "code",
   "execution_count": null,
   "id": "172c9c90",
   "metadata": {},
   "outputs": [],
   "source": [
    "df.head()"
   ]
  },
  {
   "cell_type": "code",
   "execution_count": null,
   "id": "e1b708ee",
   "metadata": {},
   "outputs": [],
   "source": [
    "df['Date'] = pd.to_datetime(df['Date'])"
   ]
  },
  {
   "cell_type": "code",
   "execution_count": null,
   "id": "e2d5d1c9",
   "metadata": {},
   "outputs": [],
   "source": [
    "df.columns = [col.lower().replace('+','_plus_') for col in df.columns]"
   ]
  },
  {
   "cell_type": "code",
   "execution_count": null,
   "id": "75463a1d",
   "metadata": {},
   "outputs": [],
   "source": [
    "df.head()"
   ]
  },
  {
   "cell_type": "code",
   "execution_count": null,
   "id": "6f3cf9a0",
   "metadata": {},
   "outputs": [],
   "source": [
    "# set the datetime index\n",
    "df = df.set_index('date')"
   ]
  },
  {
   "cell_type": "code",
   "execution_count": null,
   "id": "257715cf",
   "metadata": {},
   "outputs": [],
   "source": [
    "# make sure the dates are sorted\n",
    "df = df.sort_index"
   ]
  },
  {
   "cell_type": "markdown",
   "id": "94ca9be3",
   "metadata": {},
   "source": [
    "### 2. Plot the distribution of sale_amount and item_price."
   ]
  },
  {
   "cell_type": "code",
   "execution_count": null,
   "id": "ae5ec34b",
   "metadata": {},
   "outputs": [],
   "source": [
    "for col in df.columnsumnsumns:\n",
    "    plt.hist(df[col])\n",
    "    plt.title(f'Distribution of {col}')\n",
    "    plt.show()"
   ]
  },
  {
   "cell_type": "markdown",
   "id": "4a02511d",
   "metadata": {},
   "source": [
    "### 3. Set the index to be the datetime variable."
   ]
  },
  {
   "cell_type": "code",
   "execution_count": null,
   "id": "0ed30ac5",
   "metadata": {},
   "outputs": [],
   "source": [
    "df.index.year"
   ]
  },
  {
   "cell_type": "code",
   "execution_count": null,
   "id": "79d923d5",
   "metadata": {},
   "outputs": [],
   "source": [
    "df.index.month"
   ]
  },
  {
   "cell_type": "code",
   "execution_count": null,
   "id": "19bb9d8c",
   "metadata": {},
   "outputs": [],
   "source": [
    "df['month'] = df.index.month\n",
    "df['year'] = df.index.year"
   ]
  },
  {
   "cell_type": "markdown",
   "id": "a80482a0",
   "metadata": {},
   "source": [
    "### 4. Add a 'month' and 'day of week' column to your dataframe."
   ]
  },
  {
   "cell_type": "code",
   "execution_count": null,
   "id": "2b55af76",
   "metadata": {},
   "outputs": [],
   "source": [
    "df.info()"
   ]
  },
  {
   "cell_type": "code",
   "execution_count": null,
   "id": "ff648c59",
   "metadata": {},
   "outputs": [],
   "source": [
    "df.groupby('year').sum()"
   ]
  },
  {
   "cell_type": "code",
   "execution_count": null,
   "id": "e140de7f",
   "metadata": {},
   "outputs": [],
   "source": [
    "df = df.fillna(0)"
   ]
  },
  {
   "cell_type": "code",
   "execution_count": null,
   "id": "0efdc080",
   "metadata": {},
   "outputs": [],
   "source": [
    "df['wind_solar'] = df['wind'] +df['solar']"
   ]
  },
  {
   "cell_type": "code",
   "execution_count": null,
   "id": "b464891c",
   "metadata": {},
   "outputs": [],
   "source": [
    "def prep_germany(df):\n",
    "    '''\n",
    "    Function will take in opsd energy data and return a cleaned dataframe with zeros appropriately filled\n",
    "    datetime formatted,\n",
    "    month and year columns added,\n",
    "    and additive wind and solar column concatenated as wind_solar.\n",
    "    return : a single pandas DataFrame\n",
    "    '''\n",
    "    # clean the column names\n",
    "    df.columns = [col.lower().replace('+','_plus_') for col in df.columns]\n",
    "    # setting date as a pandas datetime\n",
    "    df['date'] = pd.to_datetime(df['date'])\n",
    "    # setting the datetime as the index and sorting those values \n",
    "    df.set_index('date').sort_index()\n",
    "    # month and year as new columns\n",
    "    df['month'] = df.index.month\n",
    "    df['year'] = df.index.year\n",
    "    # fill empty cells with zero\n",
    "    df = df.fillna(0)\n",
    "    #compute an altered wind solar\n",
    "    df['wind_solar'] = df['wind'] + df['solar']\n",
    "    return df"
   ]
  },
  {
   "cell_type": "markdown",
   "id": "c9659cdf",
   "metadata": {},
   "source": [
    "### 5. Add a column to your dataframe, sales_total, which is a derived from sale_amount (total items) and item_price."
   ]
  },
  {
   "cell_type": "markdown",
   "id": "c8942f0e",
   "metadata": {},
   "source": [
    "### 6. Make sure all the work that you have done above is reproducible. That is, you should put the code above into separate functions and be able to re-run the functions and get the same results."
   ]
  }
 ],
 "metadata": {
  "kernelspec": {
   "display_name": "Python 3 (ipykernel)",
   "language": "python",
   "name": "python3"
  },
  "language_info": {
   "codemirror_mode": {
    "name": "ipython",
    "version": 3
   },
   "file_extension": ".py",
   "mimetype": "text/x-python",
   "name": "python",
   "nbconvert_exporter": "python",
   "pygments_lexer": "ipython3",
   "version": "3.9.13"
  }
 },
 "nbformat": 4,
 "nbformat_minor": 5
}
