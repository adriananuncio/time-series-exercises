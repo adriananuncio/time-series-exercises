{
 "cells": [
  {
   "cell_type": "code",
   "execution_count": null,
   "id": "85647018",
   "metadata": {},
   "outputs": [],
   "source": [
    "# standars imports\n",
    "import numpy as np\n",
    "import pandas as pd\n",
    "# visuals\n",
    "import matplotlib.pyplot as plt\n",
    "import seaborn as sns\n",
    "# date/time\n",
    "from datetime import timedelta, datetime\n",
    "from sklearn.model_selection import TimeSeriesSplit\n",
    "# stats\n",
    "import statsmodels.api as sm\n",
    "# .py files\n",
    "import prepare\n",
    "import acquire\n",
    "# plt.style.use('seaborn-whitegrid')\n",
    "plt.rc('figure', figsize=(13, 7))\n",
    "plt.rc('font', size=16)\n",
    "# notebook formatting\n",
    "import warnings\n",
    "warnings.filterwarnings(\"ignore\")"
   ]
  },
  {
   "cell_type": "code",
   "execution_count": null,
   "id": "30f81e91",
   "metadata": {},
   "outputs": [],
   "source": [
    "# read in and prep the store data:\n",
    "df = acquire.wrangle_store_data()\n",
    "df = prepare.prep_store_data(df)"
   ]
  },
  {
   "cell_type": "code",
   "execution_count": null,
   "id": "eb3c5cb0",
   "metadata": {},
   "outputs": [],
   "source": [
    "df.head()"
   ]
  },
  {
   "cell_type": "code",
   "execution_count": null,
   "id": "9430a14d",
   "metadata": {},
   "outputs": [],
   "source": [
    "# max and min dates\n",
    "df.index.min(), df.index.max()"
   ]
  },
  {
   "cell_type": "code",
   "execution_count": null,
   "id": "45cbd8f2",
   "metadata": {},
   "outputs": [],
   "source": [
    "# train, validate, test split:\n",
    "\n",
    "train = df[:'2015']\n",
    "validate = df['2016']\n",
    "test = df['2017']"
   ]
  },
  {
   "cell_type": "code",
   "execution_count": null,
   "id": "c850263d",
   "metadata": {},
   "outputs": [],
   "source": [
    "# visualize the split data:\n",
    "\n",
    "train.resample('D').sales_total.mean().plot()\n",
    "validate.resample('D').sales_total.mean().plot()\n",
    "test.resample('D').sales_total.mean().plot()"
   ]
  },
  {
   "cell_type": "code",
   "execution_count": null,
   "id": "0e28ff83",
   "metadata": {},
   "outputs": [],
   "source": [
    "# y is the resampled daily data: \n",
    "\n",
    "y = train.resample('D').sales_total.mean()\n",
    "y.head()"
   ]
  },
  {
   "cell_type": "code",
   "execution_count": null,
   "id": "35009f62",
   "metadata": {},
   "outputs": [],
   "source": [
    "#plot the daily differences\n",
    "# observe weather usage seems to vary drastically from day to day or has more of a smooth transition\n",
    "\n",
    "y.diff()['2013'].plot()\n",
    "plt.title('Daily Sales Difference')\n",
    "plt.ylabel('Difference in sales from one day to the next')"
   ]
  },
  {
   "cell_type": "code",
   "execution_count": null,
   "id": "d186bda8",
   "metadata": {},
   "outputs": [],
   "source": [
    "# closer look at those spikes\n",
    "y.diff()['2013-02-01':'2013-05-01'].plot()\n",
    "plt.title('Daily Sales Differences')\n",
    "plt.ylabel('Differences in sales from one day to the next')"
   ]
  },
  {
   "cell_type": "code",
   "execution_count": null,
   "id": "31ea84ac",
   "metadata": {},
   "outputs": [],
   "source": [
    "# maybe it would be helpful to look at the percentage change as well\n",
    "\n",
    "(y.diff() / y.shift()).plot(alpha=.5)\n",
    "plt.title('Daily % Change in Sales Total')\n",
    "plt.ylabel('% Change')"
   ]
  },
  {
   "cell_type": "code",
   "execution_count": null,
   "id": "b22d158a",
   "metadata": {},
   "outputs": [],
   "source": [
    "fig, (ax1, ax2) = plt.subplots(2, 1, sharex=True, sharey=True)\n",
    "\n",
    "weekly = y.resample('W').mean()\n",
    "(weekly.diff() / weekly.shift()).plot(ax=ax1)\n",
    "ax1.set(title='Weekly % Change in Sales Total', ylabel='% Change', xlabel='')\n",
    "\n",
    "monthly = y.resample('M'),mean()\n",
    "(monthly.diff() / monthly.shift()).plot(ax=ax2)\n",
    "ax2.set(title='Monthly % Change in Sales Total')\n",
    "# ax2.hlines(0, *ax2.get_xlim())"
   ]
  },
  {
   "cell_type": "code",
   "execution_count": null,
   "id": "9cc3e0b0",
   "metadata": {},
   "outputs": [],
   "source": [
    "y.resample('W').mean()"
   ]
  },
  {
   "cell_type": "code",
   "execution_count": null,
   "id": "5d872172",
   "metadata": {},
   "outputs": [],
   "source": [
    "# autocorrelation after weekly resampling:\n",
    " pd.plotting.autocorrelation_plot(y.resample('W').mean())"
   ]
  },
  {
   "cell_type": "code",
   "execution_count": null,
   "id": "ab886804",
   "metadata": {},
   "outputs": [],
   "source": [
    "# decompose the data\n",
    "sm.tsa.seasonal_decompose(y.resample('W').mean()).plot()"
   ]
  },
  {
   "cell_type": "code",
   "execution_count": null,
   "id": "85bf299c",
   "metadata": {},
   "outputs": [],
   "source": [
    "power = pd.read_csv(\"https://raw.githubusercontent.com/jenfly/opsd/master/opsd_germany_daily.csv\")\n",
    "power = prepare.prep_opsd_data(power)"
   ]
  },
  {
   "cell_type": "code",
   "execution_count": null,
   "id": "512191ec",
   "metadata": {},
   "outputs": [],
   "source": [
    "power.head()"
   ]
  },
  {
   "cell_type": "code",
   "execution_count": null,
   "id": "e8745595",
   "metadata": {},
   "outputs": [],
   "source": [
    "# number of nulls\n",
    "power.isnull().sum()"
   ]
  },
  {
   "cell_type": "code",
   "execution_count": null,
   "id": "fffc90c5",
   "metadata": {},
   "outputs": [],
   "source": [
    "power.index.min(), power.index.max()"
   ]
  },
  {
   "cell_type": "code",
   "execution_count": null,
   "id": "39f4c148",
   "metadata": {},
   "outputs": [],
   "source": [
    "# split data\n",
    "train = power[:'2013']\n",
    "train.head()"
   ]
  },
  {
   "cell_type": "code",
   "execution_count": null,
   "id": "1370118f",
   "metadata": {},
   "outputs": [],
   "source": [
    "# plot the consumption, wind and solar data\n",
    "\n",
    "train.consumption.plot(label=\"consumption\")\n",
    "plt.plot(train['consumption'].rolling('90D').mean(), label=\"Rolling Mean\")\n",
    "train.wind.plot()\n",
    "train.solar.plot()\n",
    "plt.legend()"
   ]
  },
  {
   "cell_type": "code",
   "execution_count": null,
   "id": "16c0bf7b",
   "metadata": {},
   "outputs": [],
   "source": [
    "# lets look at consumption in a single year and see if we see any pattern\n",
    "plt.figure(figsize=(12,8))\n",
    "plt.plot(train.loc['2010-01':'2010-12']['consumption'], linewidth = 0.5)\n",
    "plt.title(\"consumption in 2010\")\n",
    "plt.show()"
   ]
  },
  {
   "cell_type": "code",
   "execution_count": null,
   "id": "52c45457",
   "metadata": {},
   "outputs": [],
   "source": [
    "# resample monthly and plot\n",
    "train.consumption.resample('M').mean().plot()"
   ]
  },
  {
   "cell_type": "code",
   "execution_count": null,
   "id": "516ca726",
   "metadata": {},
   "outputs": [],
   "source": [
    "# resample data on yearly basis and plot\n",
    "train.consumption.resample('Y').mean().plot()\n",
    "plt.ylim(1100,1400)"
   ]
  },
  {
   "cell_type": "code",
   "execution_count": null,
   "id": "a63c6753",
   "metadata": {},
   "outputs": [],
   "source": [
    "# lets fill all NaNs with zero\n",
    "train = train.fillna(0)"
   ]
  },
  {
   "cell_type": "code",
   "execution_count": null,
   "id": "8e820ec8",
   "metadata": {},
   "outputs": [],
   "source": [
    "\n",
    "# make a new datafrsame sources\n",
    "sources = train[['consumption', 'wind', 'solar']]\n",
    "\n",
    "# make a new column called conventional: Consumption - Wind - Solar\n",
    "sources['conventional'] = sources.consumption - sources.wind - sources.solar"
   ]
  },
  {
   "cell_type": "code",
   "execution_count": null,
   "id": "7f317022",
   "metadata": {},
   "outputs": [],
   "source": [
    "\n",
    "# lets plot the three power sources as stacked bar chart:\n",
    "\n",
    "ax = sources[['conventional', 'wind', 'solar']].resample('Y').sum().plot.bar(stacked = True)\n",
    "ax.set_ylim(0, 700000)\n",
    "ax.legend(ncol = 3)\n",
    "\n",
    "labels = [pd.to_datetime(t.get_text()).strftime('%Y') for t in ax.get_xticklabels()]\n",
    "ax.set_xticklabels(labels);"
   ]
  },
  {
   "cell_type": "code",
   "execution_count": null,
   "id": "2f1a855e",
   "metadata": {},
   "outputs": [],
   "source": [
    "train['month'] = train.index.month\n",
    "train['weekday'] = train.index.day_name()"
   ]
  },
  {
   "cell_type": "code",
   "execution_count": null,
   "id": "0aabb45a",
   "metadata": {},
   "outputs": [],
   "source": [
    "# energy consumption by month\n",
    "sns.boxplot(data= train, x='month', y='consumption')"
   ]
  },
  {
   "cell_type": "code",
   "execution_count": null,
   "id": "c8125804",
   "metadata": {},
   "outputs": [],
   "source": [
    "# energy consumption by weekday\n",
    "sns.boxplot(data= train, x='weekday', y='consumption')"
   ]
  },
  {
   "cell_type": "code",
   "execution_count": null,
   "id": "ca46c251",
   "metadata": {},
   "outputs": [],
   "source": [
    "# subseasonal plot\n",
    "y = train.consumption\n",
    "table = y.groupby([y.index.strftime('%Y'), y.index.strftime('%m-%b')]).mean().unstack()"
   ]
  },
  {
   "cell_type": "code",
   "execution_count": null,
   "id": "b5cb0be0",
   "metadata": {},
   "outputs": [],
   "source": [
    "fig, axs = plt.subplots(1, 12, sharey=True, sharex=True, figsize=(25,8))\n",
    "for ax, (month, subset) in zip(axs, table.iteritems()):\n",
    "    subset.plot(ax=ax. title=month)\n",
    "    ax.hlines(subset.mean(), x_left, x_right, ls='--')\n",
    "    ax.set(xlabel='')\n",
    "    ax.tick_params('x', rotation=45)\n",
    "\n",
    "fig.suptitle('Seasonal Subseries Plot') # super-title for the overall figure\n",
    "fig.subplots_adjust(wspace=0)"
   ]
  },
  {
   "cell_type": "code",
   "execution_count": null,
   "id": "abf1fe37",
   "metadata": {},
   "outputs": [],
   "source": [
    "fig, axs = plt.subplots(3, 4, sharex=False, sharey=True, figsize=(25,8))\n",
    "\n",
    "for ax, (month, subset) in zip(axs.ravel(), table.iteritems()):\n",
    "    subset.plot(ax=ax, title=month[3:])\n",
    "    ax.hlines(subset.mean(), *ax.get_xlim(), ls = '--')\n",
    "fig.subplots_adjust(wspace=0)\n",
    "plt.tight_layout()"
   ]
  },
  {
   "cell_type": "code",
   "execution_count": null,
   "id": "4bcf4276",
   "metadata": {},
   "outputs": [],
   "source": [
    "# How does the wind production/consumption vary within a year and also year to year\n",
    "\n",
    "ax = train['2010':].wind.resample('M').sum().plot()\n",
    "ax.set(title = 'Wind production pattern')"
   ]
  },
  {
   "cell_type": "code",
   "execution_count": null,
   "id": "a2cdd18b",
   "metadata": {},
   "outputs": [],
   "source": [
    "# bring in the gdp growth rate data\n",
    "\n",
    "growth_rate = {2006:3.815, 2007:2.984, 2008:0.962, 2009:-5.697, 2010:4.179, 2011:3.924, 2012:0.42, 2013:0.428, 2014:2.226 , 2015:1.74 , 2016:2.23 , 2017:2.465 }"
   ]
  },
  {
   "cell_type": "code",
   "execution_count": null,
   "id": "dc75d78e",
   "metadata": {},
   "outputs": [],
   "source": [
    "# convert dict to dataframe\n",
    "growth_rate = pd.DataFrame.from_dict(growth_rate, orient='index', columns = ['growth_rate'])\n",
    "growth_rate.head()"
   ]
  },
  {
   "cell_type": "code",
   "execution_count": null,
   "id": "ccd90c31",
   "metadata": {},
   "outputs": [],
   "source": [
    "# set index as datetimeindex\n",
    "growth_rate.index= pd.to_datetime(growth_rate.index, format = '%Y')"
   ]
  },
  {
   "cell_type": "code",
   "execution_count": null,
   "id": "34c8734f",
   "metadata": {},
   "outputs": [],
   "source": [
    "# check the dataframe head\n",
    "growth_rate.head()"
   ]
  },
  {
   "cell_type": "code",
   "execution_count": null,
   "id": "279916f5",
   "metadata": {},
   "outputs": [],
   "source": [
    "# compare power consumption and GDP growth rate:\n",
    "\n",
    "fig, (ax1, ax2) = plt.subplots(2, 1, sharex=True, figsize=(16, 9))\n",
    "\n",
    "ax = power.consumption.resample('Y').sum().plot(figsize = (12,6), ax = ax1)\n",
    "ax1.set(title='Power Consumption')\n",
    "ax1.set_ylabel('Power Consumption')\n",
    "\n",
    "growth_rate.plot(ax =ax2)\n",
    "ax2.set(title='GDP Growth Rate')\n",
    "ax2.set_ylabel('Growth Rate')"
   ]
  },
  {
   "cell_type": "code",
   "execution_count": null,
   "id": "7feb8601",
   "metadata": {},
   "outputs": [],
   "source": [
    "decomposition = sm.tsa.seasonal_decompose(train.resample('W').consumption.mean(), model='additive')"
   ]
  },
  {
   "cell_type": "code",
   "execution_count": null,
   "id": "d726b8c7",
   "metadata": {},
   "outputs": [],
   "source": [
    "decomposition.plot()\n",
    "plt.show()"
   ]
  },
  {
   "cell_type": "code",
   "execution_count": null,
   "id": "bc21adbe",
   "metadata": {},
   "outputs": [],
   "source": [
    "# autocorrelation plot\n",
    "pd.plotting.autocorrelation_plot(train.consumption.resample('W').mean())"
   ]
  },
  {
   "cell_type": "code",
   "execution_count": null,
   "id": "787bf34c",
   "metadata": {},
   "outputs": [],
   "source": [
    "# is there a weekly seasonality in this data\n",
    "pd.plotting.autocorrelation_plot(train.consumption['2010-01':'2010-03'])"
   ]
  }
 ],
 "metadata": {
  "kernelspec": {
   "display_name": "Python 3 (ipykernel)",
   "language": "python",
   "name": "python3"
  },
  "language_info": {
   "codemirror_mode": {
    "name": "ipython",
    "version": 3
   },
   "file_extension": ".py",
   "mimetype": "text/x-python",
   "name": "python",
   "nbconvert_exporter": "python",
   "pygments_lexer": "ipython3",
   "version": "3.9.13"
  }
 },
 "nbformat": 4,
 "nbformat_minor": 5
}
